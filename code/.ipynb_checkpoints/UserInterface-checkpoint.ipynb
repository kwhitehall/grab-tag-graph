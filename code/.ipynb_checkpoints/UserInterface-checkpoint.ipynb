{
 "cells": [
  {
   "cell_type": "code",
   "execution_count": 1,
   "metadata": {
    "collapsed": false
   },
   "outputs": [],
   "source": [
    "import variables\n",
    "import baselineTiming2\n",
    "userVariables = variables.define_user_variables(True)\n",
    "# set directories:\n",
    "#    mainDirStr is desired output directory\n",
    "#    TRMMdirName is input TRMM files\n",
    "#    CEoriDirName is input MERG files\n",
    "userVariables.DIRS['mainDirStr'] = \"/Users/youssefbiaz/Documents/USC/,2015-3Fall'15/5CSCI401/grab-tag-graph/baselineTimings/output/paperData\"\n",
    "userVariables.DIRS['TRMMdirName'] = \"/Users/youssefbiaz/Documents/USC/,2015-3Fall'15/5CSCI401/grab-tag-graph/baselineTimings/paperData/TRMM\"\n",
    "userVariables.DIRS['CEoriDirName'] = \"/Users/youssefbiaz/Documents/USC/,2015-3Fall'15/5CSCI401/grab-tag-graph/baselineTimings/paperData/MERG\"\n",
    "# set latitudes and longitudes\n",
    "userVariables.LATMIN = '5.0'\n",
    "userVariables.LATMAX = '19.0'\n",
    "userVariables.LONMIN = '-5.0'\n",
    "userVariables.LONMAX = '9.0'\n",
    "# set start and end times\n",
    "userVariables.startDateTime = \"200609110000\"\n",
    "userVariables.endDateTime = \"200609121200\""
   ]
  },
  {
   "cell_type": "code",
   "execution_count": 2,
   "metadata": {
    "collapsed": false
   },
   "outputs": [
    {
     "name": "stdout",
     "output_type": "stream",
     "text": [
      "...\n",
      "...\n",
      "Directory exists already!!!\n",
      "Done reading data\n"
     ]
    }
   ],
   "source": [
    "#read data\n",
    "unittestFile,graphVariables,TRMMCEdirName,CEdirName,filelist = baselineTiming2.readData(userVariables)"
   ]
  },
  {
   "cell_type": "code",
   "execution_count": 3,
   "metadata": {
    "collapsed": false
   },
   "outputs": [
    {
     "name": "stdout",
     "output_type": "stream",
     "text": [
      "Start the timer\n",
      "\n",
      " -------------- Read MERG Data ----------\n",
      "\n",
      " Start the timer for the data ingest process\n",
      "\n",
      " End the timer for the data ingest process\n",
      "\n",
      " Total time to complete data ingest is 4.86925 seconds\n",
      "--------------------------------------------------------------------------------\n"
     ]
    }
   ],
   "source": [
    "# ingest data from files\n",
    "mergImgs,timeList,LAT,LON,timeTaken,CEGraph,prunedGraph,MCCList,MCSList = baselineTiming2.dataIngest(userVariables,unittestFile,filelist)"
   ]
  },
  {
   "cell_type": "code",
   "execution_count": null,
   "metadata": {
    "collapsed": false
   },
   "outputs": [
    {
     "name": "stdout",
     "output_type": "stream",
     "text": [
      "\n",
      " -------------- TESTING findCloudElements ----------\n",
      "\n",
      " Start the timer for findCloudElements process\n",
      "number of nodes are: "
     ]
    }
   ],
   "source": [
    "#find cloud elements\n",
    "timeTaken = baselineTiming2.findCloudElements(userVariables,unittestFile,graphVariables,LAT,LON,timeList,CEGraph,mergImgs,timeTaken)"
   ]
  },
  {
   "cell_type": "code",
   "execution_count": null,
   "metadata": {
    "collapsed": true
   },
   "outputs": [],
   "source": [
    "#find cloud clusters\n",
    "timeTaken = baselineTiming2.findCloudClusters(userVariables,unittestFile,graphVariables,CEGraph,prunedGraph,timeTaken)"
   ]
  },
  {
   "cell_type": "code",
   "execution_count": null,
   "metadata": {
    "collapsed": true
   },
   "outputs": [],
   "source": [
    "#find MCC\n",
    "baselineTiming2.findMCC(userVariables,unittestFile,graphVariables,CEGraph,prunedGraph,MCCList,MCSList,timeTaken)"
   ]
  }
 ],
 "metadata": {
  "kernelspec": {
   "display_name": "Python 2",
   "language": "python",
   "name": "python2"
  },
  "language_info": {
   "codemirror_mode": {
    "name": "ipython",
    "version": 2
   },
   "file_extension": ".py",
   "mimetype": "text/x-python",
   "name": "python",
   "nbconvert_exporter": "python",
   "pygments_lexer": "ipython2",
   "version": "2.7.10"
  }
 },
 "nbformat": 4,
 "nbformat_minor": 0
}
