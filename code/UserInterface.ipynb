{
 "cells": [
  {
   "cell_type": "code",
   "execution_count": 1,
   "metadata": {
    "collapsed": false
   },
   "outputs": [],
   "source": [
    "import variables\n",
    "import baselineTiming2\n",
    "import networkx as nx\n",
    "userVariables = variables.define_user_variables(True)\n",
    "# set directories:\n",
    "#    mainDirStr is desired output directory\n",
    "#    TRMMdirName is input TRMM files\n",
    "#    CEoriDirName is input MERG files\n",
    "userVariables.DIRS['mainDirStr'] = \"/Users/youssefbiaz/Documents/USC/,2015-3Fall'15/5CSCI401/grab-tag-graph/baselineTimings/output/paperData\"\n",
    "userVariables.DIRS['TRMMdirName'] = \"/Users/youssefbiaz/Documents/USC/,2015-3Fall'15/5CSCI401/grab-tag-graph/baselineTimings/paperData/TRMM\"\n",
    "userVariables.DIRS['CEoriDirName'] = \"/Users/youssefbiaz/Documents/USC/,2015-3Fall'15/5CSCI401/grab-tag-graph/baselineTimings/paperData/MERG\"\n",
    "# set latitudes and longitudes\n",
    "userVariables.LATMIN = '5.0'\n",
    "userVariables.LATMAX = '19.0'\n",
    "userVariables.LONMIN = '-5.0'\n",
    "userVariables.LONMAX = '9.0'\n",
    "# set start and end times\n",
    "userVariables.startDateTime = \"200609110000\"\n",
    "userVariables.endDateTime = \"200609121200\""
   ]
  },
  {
   "cell_type": "code",
   "execution_count": 2,
   "metadata": {
    "collapsed": false
   },
   "outputs": [
    {
     "name": "stdout",
     "output_type": "stream",
     "text": [
      "...\n",
      "...\n",
      "Directory exists already!!!\n",
      "Done reading data\n"
     ]
    }
   ],
   "source": [
    "#read data\n",
    "unittestFile,graphVariables,TRMMCEdirName,CEdirName,filelist = baselineTiming2.readData(userVariables)"
   ]
  },
  {
   "cell_type": "code",
   "execution_count": 3,
   "metadata": {
    "collapsed": false
   },
   "outputs": [
    {
     "name": "stdout",
     "output_type": "stream",
     "text": [
      "Start the timer\n",
      "\n",
      " -------------- Read MERG Data ----------\n",
      "\n",
      " Start the timer for the data ingest process\n",
      "\n",
      " End the timer for the data ingest process\n",
      "\n",
      " Total time to complete data ingest is 4.95159 seconds\n",
      "--------------------------------------------------------------------------------\n"
     ]
    }
   ],
   "source": [
    "# ingest data from files\n",
    "mergImgs,timeList,LAT,LON,timeTaken = baselineTiming2.dataIngest(userVariables,unittestFile,filelist)"
   ]
  },
  {
   "cell_type": "code",
   "execution_count": 4,
   "metadata": {
    "collapsed": false
   },
   "outputs": [
    {
     "name": "stdout",
     "output_type": "stream",
     "text": [
      "\n",
      " -------------- TESTING findCloudElements ----------\n",
      "\n",
      " Start the timer for findCloudElements process\n",
      "\n",
      " Using both MERG and TRMM simultaneously \n",
      "number of nodes are:  152\n",
      "number of edges are:  159\n",
      "********************************************************************************\n",
      "\n",
      " Number of cloud elements found is:  152\n",
      "\n",
      " End the timer for findCloudElements process\n",
      "\n",
      " Total time to complete finding cloud elements is 381.443 seconds\n",
      "--------------------------------------------------------------------------------\n"
     ]
    }
   ],
   "source": [
    "#find cloud elements\n",
    "CEGraph = nx.DiGraph()\n",
    "prunedGraph = nx.DiGraph()\n",
    "MCCList = []\n",
    "MCSList = []\n",
    "timeTaken = baselineTiming2.findCloudElements(userVariables,unittestFile,graphVariables,LAT,LON,timeList,CEGraph,mergImgs,timeTaken)"
   ]
  },
  {
   "cell_type": "code",
   "execution_count": 7,
   "metadata": {
    "collapsed": false
   },
   "outputs": [
    {
     "name": "stdout",
     "output_type": "stream",
     "text": [
      "\n",
      " -------------- TESTING findCloudClusters ----------\n",
      "\n",
      " Start the timer for findCloudClusters process\n",
      "pruned graph\n",
      "number of nodes are:  0\n",
      "number of edges are:  0\n",
      "********************************************************************************\n",
      "The number of nodes in the prunedGraph is:  0\n",
      "\n",
      " End the timer for the findCloudClusters process\n",
      "\n",
      " Total time to complete finding the cloud clusters is 0.000189066 seconds\n"
     ]
    },
    {
     "ename": "ValueError",
     "evalue": "I/O operation on closed file",
     "output_type": "error",
     "traceback": [
      "\u001b[0;31m---------------------------------------------------------------------------\u001b[0m",
      "\u001b[0;31mValueError\u001b[0m                                Traceback (most recent call last)",
      "\u001b[0;32m<ipython-input-7-62cdba02ff06>\u001b[0m in \u001b[0;36m<module>\u001b[0;34m()\u001b[0m\n\u001b[1;32m      1\u001b[0m \u001b[0;31m#find cloud clusters\u001b[0m\u001b[0;34m\u001b[0m\u001b[0;34m\u001b[0m\u001b[0m\n\u001b[0;32m----> 2\u001b[0;31m \u001b[0mtimeTaken\u001b[0m \u001b[0;34m=\u001b[0m \u001b[0mbaselineTiming2\u001b[0m\u001b[0;34m.\u001b[0m\u001b[0mfindCloudClusters\u001b[0m\u001b[0;34m(\u001b[0m\u001b[0muserVariables\u001b[0m\u001b[0;34m,\u001b[0m\u001b[0munittestFile\u001b[0m\u001b[0;34m,\u001b[0m\u001b[0mgraphVariables\u001b[0m\u001b[0;34m,\u001b[0m\u001b[0mCEGraph\u001b[0m\u001b[0;34m,\u001b[0m\u001b[0mprunedGraph\u001b[0m\u001b[0;34m,\u001b[0m\u001b[0mtimeTaken\u001b[0m\u001b[0;34m)\u001b[0m\u001b[0;34m\u001b[0m\u001b[0m\n\u001b[0m",
      "\u001b[0;32mbaselineTiming2.pyc\u001b[0m in \u001b[0;36mfindCloudClusters\u001b[0;34m(userVariables, unittestFile, graphVariables, CEGraph, prunedGraph, timeTaken)\u001b[0m\n",
      "\u001b[0;31mValueError\u001b[0m: I/O operation on closed file"
     ]
    }
   ],
   "source": [
    "#find cloud clusters\n",
    "timeTaken = baselineTiming2.findCloudClusters(userVariables,unittestFile,graphVariables,CEGraph,prunedGraph,timeTaken)"
   ]
  },
  {
   "cell_type": "code",
   "execution_count": 6,
   "metadata": {
    "collapsed": false
   },
   "outputs": [
    {
     "name": "stdout",
     "output_type": "stream",
     "text": [
      "\n",
      " -------------- TESTING findMCCs ----------\n",
      "\n",
      " Start the timer for the findMCCs process\n",
      "\n",
      " MCC List has been acquired  0\n",
      "\n",
      " MCS List has been acquired  0\n",
      "\n",
      " End the timer for the findMCCs process\n",
      "\n",
      " Total time to complete finding the MCCs is 0.000120163 seconds\n",
      "--------------------------------------------------------------------------------\n",
      "********************************************************************************\n",
      "\n",
      " The entire evaluation took 416.402 seconds to complete\n"
     ]
    }
   ],
   "source": [
    "#find MCC\n",
    "baselineTiming2.findMCC(userVariables,unittestFile,graphVariables,CEGraph,prunedGraph,MCCList,MCSList,timeTaken)"
   ]
  },
  {
   "cell_type": "code",
   "execution_count": null,
   "metadata": {
    "collapsed": true
   },
   "outputs": [],
   "source": []
  }
 ],
 "metadata": {
  "kernelspec": {
   "display_name": "Python 2",
   "language": "python",
   "name": "python2"
  },
  "language_info": {
   "codemirror_mode": {
    "name": "ipython",
    "version": 2
   },
   "file_extension": ".py",
   "mimetype": "text/x-python",
   "name": "python",
   "nbconvert_exporter": "python",
   "pygments_lexer": "ipython2",
   "version": "2.7.10"
  }
 },
 "nbformat": 4,
 "nbformat_minor": 0
}
