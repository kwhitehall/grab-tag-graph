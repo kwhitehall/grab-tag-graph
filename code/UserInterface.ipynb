{
 "cells": [
  {
   "cell_type": "code",
   "execution_count": 1,
   "metadata": {
    "collapsed": false
   },
   "outputs": [],
   "source": [
    "import variables\n",
    "import iomethods\n",
    "import networkx as nx\n",
    "import mccSearch\n",
    "import time\n",
    "\n",
    "userVariables = variables.define_user_variables(True)\n",
    "# set directories:\n",
    "#    mainDirStr is desired output directory\n",
    "#    TRMMdirName is input TRMM files\n",
    "#    CEoriDirName is input MERG files\n",
    "userVariables.DIRS['mainDirStr'] = \"/Users/youssefbiaz/Documents/USC/,2015-3Fall'15/5CSCI401/grab-tag-graph/baselineTimings/output/paperData\"\n",
    "userVariables.DIRS['TRMMdirName'] = \"/Users/youssefbiaz/Documents/USC/,2015-3Fall'15/5CSCI401/grab-tag-graph/baselineTimings/paperData/TRMM\"\n",
    "userVariables.DIRS['CEoriDirName'] = \"/Users/youssefbiaz/Documents/USC/,2015-3Fall'15/5CSCI401/grab-tag-graph/baselineTimings/paperData/MERG\"\n",
    "# set latitudes and longitudes\n",
    "userVariables.LATMIN = '5.0'\n",
    "userVariables.LATMAX = '19.0'\n",
    "userVariables.LONMIN = '-5.0'\n",
    "userVariables.LONMAX = '9.0'\n",
    "# set start and end times\n",
    "userVariables.startDateTime = \"200609110000\"\n",
    "userVariables.endDateTime = \"200609121200\""
   ]
  },
  {
   "cell_type": "code",
   "execution_count": 2,
   "metadata": {
    "collapsed": false
   },
   "outputs": [
    {
     "name": "stdout",
     "output_type": "stream",
     "text": [
      "Directory exists already!!!\n",
      "Done reading data\n"
     ]
    }
   ],
   "source": [
    "#read data\n",
    "graphVariables = iomethods.read_vars(userVariables)"
   ]
  },
  {
   "cell_type": "code",
   "execution_count": 3,
   "metadata": {
    "collapsed": true
   },
   "outputs": [],
   "source": [
    "#create test output file\n",
    "unittestFile = open(userVariables.DIRS['mainDirStr']+'/unittestResults.txt','wb')\n",
    "unittestFile.write(\"\\n Timing results for \"+userVariables.startDateTime+\" to \"+userVariables.endDateTime)"
   ]
  },
  {
   "cell_type": "code",
   "execution_count": 4,
   "metadata": {
    "collapsed": false
   },
   "outputs": [
    {
     "name": "stdout",
     "output_type": "stream",
     "text": [
      "Start the timer\n",
      "\n",
      " -------------- Read MERG Data ----------\n",
      "\n",
      " Start the timer for the data ingest process\n",
      "\n",
      " End the timer for the data ingest process\n",
      "\n",
      " Total time to complete data ingest is 5.84562 seconds\n"
     ]
    }
   ],
   "source": [
    "# ingest data from files\n",
    "print \"Start the timer\"\n",
    "# time how long it takes to complete reading in the data\n",
    "print \"\\n -------------- Read MERG Data ----------\"\n",
    "print \"\\n Start the timer for the data ingest process\"\n",
    "readMergStart = time.time()\n",
    "mergImgs, timeList, LAT, LON,userVariables = iomethods.read_data(userVariables.DIRS['CEoriDirName'],'ch4','latitude','longitude', userVariables)\n",
    "readMergEnd = time.time()\n",
    "timeTaken = readMergEnd - readMergStart\n",
    "print \"\\n End the timer for the data ingest process\"\n",
    "print \"\\n Total time to complete data ingest is %g seconds\"%(readMergEnd - readMergStart)\n",
    "unittestFile.write(\"\\n 1. Total time to complete data ingest is %g seconds\"%(readMergEnd - readMergStart))"
   ]
  },
  {
   "cell_type": "code",
   "execution_count": 5,
   "metadata": {
    "collapsed": false
   },
   "outputs": [
    {
     "name": "stdout",
     "output_type": "stream",
     "text": [
      "\n",
      " -------------- TESTING findCloudElements ----------\n",
      "\n",
      " Start the timer for findCloudElements process\n",
      "\n",
      " Using both MERG and TRMM simultaneously \n",
      "number of nodes are:  152\n",
      "number of edges are:  159\n",
      "********************************************************************************\n",
      "\n",
      " Number of cloud elements found is:  152\n",
      "\n",
      " End the timer for findCloudElements process\n",
      "\n",
      " Total time to complete finding cloud elements is 426.253 seconds\n",
      "--------------------------------------------------------------------------------\n"
     ]
    }
   ],
   "source": [
    "#find cloud elements\n",
    "CEGraph = nx.DiGraph()\n",
    "prunedGraph = nx.DiGraph()\n",
    "MCCList = []\n",
    "MCSList = []\n",
    "\n",
    "print \"\\n -------------- TESTING findCloudElements ----------\"\n",
    "print \"\\n Start the timer for findCloudElements process\"\n",
    "findCEsStart = time.time()\n",
    "print \"\\n Using both MERG and TRMM simultaneously \"\n",
    "CEGraph = mccSearch.find_cloud_elements(mergImgs,timeList,userVariables.DIRS['mainDirStr'], LAT,LON,userVariables,graphVariables,userVariables.DIRS['TRMMdirName'])\n",
    "findCEsEnd = time.time()\n",
    "print \"\\n Number of cloud elements found is: \", CEGraph.number_of_nodes()\n",
    "print \"\\n End the timer for findCloudElements process\"\n",
    "print \"\\n Total time to complete finding cloud elements is %g seconds\"%(findCEsEnd - findCEsStart)\n",
    "timeTaken +=  findCEsEnd - findCEsStart\n",
    "unittestFile.write(\"\\n 2. Total time to complete finding cloud elements is %g seconds\"%(findCEsEnd - findCEsStart))\n",
    "print (\"-\"*80)"
   ]
  },
  {
   "cell_type": "code",
   "execution_count": 6,
   "metadata": {
    "collapsed": false
   },
   "outputs": [
    {
     "name": "stdout",
     "output_type": "stream",
     "text": [
      "\n",
      " -------------- TESTING findCloudClusters ----------\n",
      "\n",
      " Start the timer for findCloudClusters process\n",
      "pruned graph\n",
      "number of nodes are:  127\n",
      "number of edges are:  119\n",
      "********************************************************************************\n",
      "The number of nodes in the prunedGraph is:  127\n",
      "\n",
      " End the timer for the findCloudClusters process\n",
      "\n",
      " Total time to complete finding the cloud clusters is 0.018296 seconds\n",
      "--------------------------------------------------------------------------------\n"
     ]
    }
   ],
   "source": [
    "#find cloud clusters\n",
    "print \"\\n -------------- TESTING findCloudClusters ----------\"\n",
    "print \"\\n Start the timer for findCloudClusters process\"\n",
    "findCloudClustersStart = time.time()\n",
    "prunedGraph = mccSearch.find_cloud_clusters(CEGraph,userVariables,graphVariables)\n",
    "print \"The number of nodes in the prunedGraph is: \", prunedGraph.number_of_nodes()\n",
    "findCloudClustersEnd = time.time()\n",
    "timeTaken += findCloudClustersEnd - findCloudClustersStart\n",
    "print \"\\n End the timer for the findCloudClusters process\"\n",
    "print \"\\n Total time to complete finding the cloud clusters is %g seconds\"%(findCloudClustersEnd - findCloudClustersStart)\n",
    "unittestFile.write(\"\\n 3. Total time to complete finding the cloud clusters is %g seconds\"%(findCloudClustersEnd - findCloudClustersStart))\n",
    "print (\"-\"*80)"
   ]
  },
  {
   "cell_type": "code",
   "execution_count": 7,
   "metadata": {
    "collapsed": false
   },
   "outputs": [
    {
     "name": "stdout",
     "output_type": "stream",
     "text": [
      "\n",
      " -------------- TESTING findMCCs ----------\n",
      "\n",
      " Start the timer for the findMCCs process\n",
      "\n",
      " MCC List has been acquired  0\n",
      "\n",
      " MCS List has been acquired  5\n",
      "\n",
      " End the timer for the findMCCs process\n",
      "\n",
      " Total time to complete finding the MCCs is 16.0831 seconds\n",
      "--------------------------------------------------------------------------------\n",
      "********************************************************************************\n",
      "\n",
      " The entire evaluation took 448.2 seconds to complete\n"
     ]
    }
   ],
   "source": [
    "#find MCC\n",
    "print \"\\n -------------- TESTING findMCCs ----------\"\n",
    "print \"\\n Start the timer for the findMCCs process\"\n",
    "findMCCStart = time.time()\n",
    "MCCList,MCSList = mccSearch.find_MCC(prunedGraph,userVariables,graphVariables)\n",
    "print \"\\n MCC List has been acquired \", len(MCCList)\n",
    "print \"\\n MCS List has been acquired \", len(MCSList)\n",
    "findMCCEnd = time.time()\n",
    "timeTaken += findMCCEnd - findMCCStart\n",
    "print \"\\n End the timer for the findMCCs process\"\n",
    "print \"\\n Total time to complete finding the MCCs is %g seconds\"%(findMCCEnd - findMCCStart)\n",
    "unittestFile.write(\"\\n 4. Total time to complete finding the MCCs is %g seconds\"%(findMCCEnd - findMCCStart))\n",
    "print (\"-\"*80)\n",
    "print (\"*\"*80)\n",
    "print \"\\n The entire evaluation took %g seconds to complete\" %(timeTaken)\n",
    "unittestFile.write(\"\\n The entire evaluation took %g seconds to complete\" %(timeTaken))\n",
    "unittestFile.write(\"\\n ----------------------------------------------------------------\")\n",
    "unittestFile.write(\"\\n Number of cloud elements found is: %d\"%CEGraph.number_of_nodes())\n",
    "unittestFile.write(\"\\n Number of edges (with the cloud elements) found is: %d\"%CEGraph.number_of_edges())\n",
    "unittestFile.write(\"\\n The number of nodes in the prunedGraph is: %d\" %prunedGraph.number_of_nodes())\n",
    "unittestFile.write(\"\\n The number of edges (with nodes) in the prunedGraph is: %d\" %prunedGraph.number_of_edges())\n",
    "unittestFile.write(\"\\n MCC List has been acquired %d\" %len(MCCList))\n",
    "unittestFile.write(\"\\n MCS List has been acquired %d\" %len(MCSList))"
   ]
  },
  {
   "cell_type": "code",
   "execution_count": null,
   "metadata": {
    "collapsed": true
   },
   "outputs": [],
   "source": [
    "#close test output file\n",
    "unittestFile.close()"
   ]
  }
 ],
 "metadata": {
  "kernelspec": {
   "display_name": "Python 2",
   "language": "python",
   "name": "python2"
  },
  "language_info": {
   "codemirror_mode": {
    "name": "ipython",
    "version": 2
   },
   "file_extension": ".py",
   "mimetype": "text/x-python",
   "name": "python",
   "nbconvert_exporter": "python",
   "pygments_lexer": "ipython2",
   "version": "2.7.10"
  }
 },
 "nbformat": 4,
 "nbformat_minor": 0
}
